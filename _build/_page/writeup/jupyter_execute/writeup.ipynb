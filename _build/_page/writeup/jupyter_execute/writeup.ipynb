{
 "cells": [
  {
   "cell_type": "markdown",
   "id": "fb4bf7d0-5550-4936-9d9b-aab952129fc3",
   "metadata": {
    "tags": []
   },
   "source": [
    "# Understanding Neural Networks\n",
    "**Author: Dominick DeCanio**"
   ]
  },
  {
   "cell_type": "code",
   "execution_count": 1,
   "id": "e2bf5ed9-231d-4f9e-875a-134202dbf62e",
   "metadata": {},
   "outputs": [],
   "source": [
    "from IPython.display import Image, HTML\n",
    "import pandas as pd\n",
    "\n",
    "#path = \"C:/Users/Dom/Desktop/edu/MSDS/fall_22/ds_6030/project\""
   ]
  },
  {
   "cell_type": "markdown",
   "id": "34849eb8-1cb0-4886-a573-633676cf38b1",
   "metadata": {},
   "source": [
    "## Introduction"
   ]
  },
  {
   "cell_type": "markdown",
   "id": "6fb05404-d8be-4bee-9804-30ff0c28df7f",
   "metadata": {},
   "source": [
    "Every day we interact with the world through our senses. When we wake up, we see the sunlight of the morning, we hear the birds chirping, and taste hot coffee. We rely on these sensory inputs to inform our decisionmaking, though this process is often taken for granted. When you get out of bed to put on a fresh cup of coffee, you might not realize that you have already made various decisions before you've started the coffee maker: retrieving coffee grounds from your cabinet requires you to decide which cabinet to open, opening your bedroom door requires you to acknowledge your doorknob's location on your door, and getting out of bed requires that you look at the clock to convince yourself that you *really* have to wake up now.\n",
    "\n",
    "Let's work with a specific example:\n",
    "Consider this cat picture."
   ]
  },
  {
   "cell_type": "markdown",
   "id": "5253c4ee-43cb-4038-8202-0c691ab17b81",
   "metadata": {},
   "source": [
    "<img src=\"https://upload.wikimedia.org/wikipedia/commons/thumb/1/16/%D0%A2%D0%BE%D0%BF%D0%B0_8.jpg/800px-%D0%A2%D0%BE%D0%BF%D0%B0_8.jpg\" width=400 height=400 style=\"margin:auto\"/>"
   ]
  },
  {
   "cell_type": "markdown",
   "id": "5188b598-bea2-4b6f-b22e-33ab4e9f32a4",
   "metadata": {},
   "source": [
    "Source: https://commons.wikimedia.org/wiki/Category:Quality_images_of_cats#/media/File:%D0%A2%D0%BE%D0%BF%D0%B0_8.jpg"
   ]
  },
  {
   "cell_type": "markdown",
   "id": "47e6ee68-820b-44ba-bb71-dd7dd0f44806",
   "metadata": {},
   "source": [
    "When you look at this picture of the cat, you can see that it is cute. Just as before, this is a decision we collectively arrive at after processing the stimulus of this image, a sensory input. To better understand our the subliminal decision-making processes that are required to come to such a conclusion, let us proceed through a set of questions to investigate how this decision was formed."
   ]
  },
  {
   "cell_type": "markdown",
   "id": "89bba1e5-4632-4429-832e-cb5ef00e736d",
   "metadata": {},
   "source": [
    "> *Why* do you think this cat is cute? <br>\n",
    "The cat's fur coloring is pretty\n",
    "\n",
    "> *Why* do you think the cat's fur coloring is pretty? <br>\n",
    "The cat's fur coloring is pretty because it has distinct colors of orange, white, and black.\n",
    "\n",
    "> *Why* do these features make the cat's fur coloring pretty? <br>\n",
    "The distinct nature of the colors allows them to be more vibrant\n",
    "\n",
    "> *Why* does color vibrance make the cat's fur coloring pretty? <br>\n",
    "Vibrant colors are pretty\n",
    "\n",
    "> *Why* are vibrant colors * pretty? <br>\n",
    "Vibrant colors are pretty"
   ]
  },
  {
   "cell_type": "markdown",
   "id": "09d2c600-4832-482b-a162-89a1beccfaac",
   "metadata": {},
   "source": [
    "Notice that underlying our conclusion was a series of decisions and observations that were intertwinded to form a foundation for this conclusion. In this specific example, the root of the conclusion that the cat is cute is that vibrant colors are pretty, and therefor because the cat has vibrant colors in its fur, it is pretty too. \n",
    "\n",
    "It is easy to image, however, that each of these questions has multiple answers. Infrequently do base conclusions on one component of an observation. Rather, our responses to stimuli tend to utilize multiple components of the stimulus in our decision.\n",
    "\n",
    "Let's proceed with the limitation that each question has 3 answers, and see what happens when we apply this assumption to the example above. Of course in reality such questions might have greater or less than 3 answers, and some answers might be the same."
   ]
  },
  {
   "cell_type": "markdown",
   "id": "eb9a5c6f-e3f9-435d-81dc-28c795331cea",
   "metadata": {},
   "source": [
    "> *Why* do you think this cat is cute? <br>\n",
    "> 1. The cat's fur coloring is pretty\n",
    "2. The cat looks surprised\n",
    "3. The cat's nose is cute\n",
    "\n",
    "> *Why* do you think the cat's fur coloring is pretty? <br>\n",
    "> 1. The cat's fur coloring is pretty\n",
    "    1. The cat's fur coloring is pretty because the colors are distinct\n",
    "    2. The cat's fur colors form a cool pattern\n",
    "    3. The cat's fur has multiple colors\n",
    "2. The cat looks surprised\n",
    "3. The cat's nose is cute\n",
    "\n",
    "\n",
    "> *Why* do these features make the cat's fur coloring pretty? <br>\n",
    "> 1. The cat's fur coloring is pretty\n",
    "    1. The cat's fur coloring is pretty because the colors are distinct\n",
    "        1. The colors are vibrant\n",
    "        2. The colors contrast well\n",
    "        3. Each color is rich\n",
    "    2. The cat's fur colors form a cool pattern\n",
    "    3. The cat's fur has multiple colors\n",
    "2. The cat looks surprised\n",
    "3. The cat's nose is cute"
   ]
  },
  {
   "cell_type": "markdown",
   "id": "75913673-1fac-40d1-9334-eeae8b8cad3e",
   "metadata": {},
   "source": [
    "This representation of the problem is getting a little hard to read - and there are many questions left unaswered because we have not answered all questions to the same depth. To understand the problem more concisely, we can rewrite these answers in tree diagram, with each box representing an answer and each line representing a question."
   ]
  },
  {
   "cell_type": "code",
   "execution_count": 2,
   "id": "65334f47-5c46-4d0f-b435-154c2b924c60",
   "metadata": {},
   "outputs": [],
   "source": [
    "#<img src=\"images/cat_diagram_1.png\" width=10000 height=1000 style=\"margin:auto\"/>"
   ]
  },
  {
   "cell_type": "markdown",
   "id": "59239987-577b-4ea0-bade-3a9a0c5b3fcb",
   "metadata": {},
   "source": [
    "```{image} /images/cat_diagram_1.png\n",
    ":alt: fishy\n",
    ":class: bg-primary mb-1\n",
    ":width: 1000px\n",
    ":align: center\n",
    "```"
   ]
  },
  {
   "cell_type": "markdown",
   "id": "9271af87-88d0-4efc-9165-3c5f20b5d163",
   "metadata": {},
   "source": [
    "We can see that our interpretation of the image relies on many small details of that image coming together to form an overall decision."
   ]
  },
  {
   "cell_type": "markdown",
   "id": "1d389fc7-44a8-4177-8564-fe515f409caf",
   "metadata": {},
   "source": [
    "```{admonition} Note\n",
    ":class: note\n",
    "We *chose* to ask 3 questions of every conclusion we came to when deciding that \"this cat is cute\". This is an arbitrary choice, and thus we might ask an arbitrary number of questions of such a conclusion, resulting in an arbitrary number of variables."
   ]
  },
  {
   "cell_type": "markdown",
   "id": "5887aa52-9e34-491a-922d-3007dee28aa6",
   "metadata": {},
   "source": [
    "### Neural Network Motivation"
   ]
  },
  {
   "cell_type": "markdown",
   "id": "28bfca08-0d58-4b19-b492-37d3dea943a7",
   "metadata": {},
   "source": [
    "To create models that understand complex data such as images, we must mimic this structure of decomoposing the input into it's components, and analyzing the interactions between these subparts before combining them to reach a conclusion. Generally, we might choose an arbitrary number of supporting variables to define any predictor variable in the feature space, dependent on the specific research question. Let's introduce a simple example, which we will follow throughout our explanation of neural networks."
   ]
  },
  {
   "cell_type": "code",
   "execution_count": 3,
   "id": "96c1345b-61de-4e4a-a5da-d7789c4d79d2",
   "metadata": {},
   "outputs": [],
   "source": [
    "#<img src=\"\" width=400 height=400 style=\"margin:auto\"/>"
   ]
  },
  {
   "cell_type": "markdown",
   "id": "76572b08-17a0-43c6-8661-a4d7a8611036",
   "metadata": {},
   "source": [
    "````{topic} Example \n",
    "```{image} /images/nn_diag_2.png\n",
    ":alt: fishy\n",
    ":class: bg-primary mb-1\n",
    ":width: 1000px\n",
    ":align: center\n",
    "```\n",
    "A snack packet can contain two types of snack:\n",
    "* pretzel\n",
    "* cheeto\n",
    "\n",
    "Each of these snacks are, in turn, composed of two ingredients: <br>\n",
    " * wheat\n",
    " * corn\n",
    "\n",
    "We might then express these relationships through the following variables and equations:\n",
    "\n",
    "$z$ = snack packets <br>\n",
    "$y$: snacks <br>\n",
    "> $y_{1}$ = pretzel <br>\n",
    "$y_{2}$ = cheetos\n",
    "\n",
    "$x$: ingredients <br>\n",
    "> $x_{1,1}$ = wheat <br>\n",
    "> $x_{1,2}$ = salt <br>\n",
    "$x_{2,1}$ = corn <br>\n",
    "$x_{2,2}$ = cheese <br>\n",
    "\n",
    "$ z = y_{1} + y_{2} $ <br>\n",
    "$ y_{1} = x_{1,1} + x_{1,2} $ <br>\n",
    "$ y_{2} = x_{2,1} + x_{2,2} $ <br>\n",
    "\n",
    "````"
   ]
  },
  {
   "cell_type": "markdown",
   "id": "57f7912f-a6a6-4bce-8168-d920385395ee",
   "metadata": {},
   "source": [
    "https://us.123rf.com/450wm/julialemba/julialemba2207/julialemba220700100/189525497-snack-chips-are-poured-in-the-package-food-packaging-template-vector-illustration-isolated-on-white-.jpg?ver=6"
   ]
  },
  {
   "cell_type": "markdown",
   "id": "86d62a6c-ddcb-42a8-aaf9-82a87f0183e1",
   "metadata": {},
   "source": [
    "You might then think to yourself: <br>\n",
    "Why don't we simply use another modeling framework such as ordinary least squares (OLS)?"
   ]
  },
  {
   "cell_type": "code",
   "execution_count": null,
   "id": "2bb636c9-ca32-4721-8fe0-75c957bdafc2",
   "metadata": {},
   "outputs": [],
   "source": []
  },
  {
   "cell_type": "code",
   "execution_count": null,
   "id": "2a42a613-59cd-4dd6-9dec-d7879ac566fa",
   "metadata": {},
   "outputs": [],
   "source": []
  },
  {
   "cell_type": "markdown",
   "id": "9bae87ff-f86c-49e5-bbc8-60d0503231f4",
   "metadata": {},
   "source": [
    "An **artificial neural network (ANN)** is a model which mimics the human brain on some level in order to process a complex input. The similarities between brain models and ANNs diverged soon after ANNs were created, and the architectures of modern ANNs do not resemble contemporary understanding of the brain. As these networks developed, and the differences between biological and artificial neural networks became well established, the convention of specifying the network as \"artificial\" became less necessary. Now, an artificial neural networks is known as simply a **neural network (NN)** and will be referred to as such throughout this article."
   ]
  },
  {
   "cell_type": "markdown",
   "id": "59afe069-5926-45d4-a644-69a38053bbe6",
   "metadata": {},
   "source": [
    "There are many good resourses that describe neural network architectures, and the applications thereof. Because neural networks are difficult to interpret, many resources do not cover neural network interpretation, which would admittedly be of limitted use to most readers. This article will develop an understanding of neural networks that:\n",
    "* provides intuition of neural network architecture\n",
    "* informs the reader of pitfalls of neural network interpretation\n",
    "* is rooted in the underlying mathematics of these networks\n",
    "\n",
    "The intended audience of this article is a graduate student, advanced undergraduate student or independent learner who has some familiarity with linear algebra, statistics, and neural network architecture but lacks an intuitive understanding of these networks.\n"
   ]
  },
  {
   "cell_type": "markdown",
   "id": "a6c60f1e-05d0-46ae-854a-61effb44f659",
   "metadata": {},
   "source": [
    "## Neural Network Design"
   ]
  },
  {
   "cell_type": "markdown",
   "id": "0400de3e-0a28-4a4b-8324-d14113af71c5",
   "metadata": {},
   "source": [
    "The following diagram shows a single layer neural network (a neural network with only one hidden layer) that has two inputs and one output."
   ]
  },
  {
   "cell_type": "markdown",
   "id": "7aae81a5-f912-4a5c-b914-904594ea1fb6",
   "metadata": {},
   "source": [
    "<img src=\"images/nn_diag_1.jpg\" width=400 height=400 style=\"margin:auto\"/>"
   ]
  },
  {
   "cell_type": "markdown",
   "id": "2919cef8-48e8-47b1-a3e1-aec185c59bcd",
   "metadata": {},
   "source": [
    "If you have worked with neural networks before, you have almost certainly seen a diagram like this used to explain what is going on underneath the hood. The aim of the following sections is to systematically break down this diagram using examples and interpretations to form an intuitive understanding of what these bubbles represent."
   ]
  },
  {
   "cell_type": "markdown",
   "id": "fde7f44f-ae81-4662-a600-b4b70f06bf27",
   "metadata": {},
   "source": [
    "### Motivation"
   ]
  },
  {
   "cell_type": "markdown",
   "id": "990d9f1a-14c9-47be-91e4-2960857c12b0",
   "metadata": {},
   "source": [
    "We have established that in order to model a complex decision process such as image recognition it is essential to decompose the problem into sub-problems to find suitable answers and compose a solution. \n",
    "\n",
    "In your usage of statistics thus far you have learned about a variety of methods through which you can model results, such as ordinary least squares. Why can't we simply use ordinary least squares, with the variables equal to each of the \"sub-problems\" (characteristics) we investigate?\n",
    "\n",
    "Let's continue with this premise and understand the results through an example."
   ]
  },
  {
   "cell_type": "markdown",
   "id": "2dfdef4f-12f2-49d2-a5ac-69f2525167ad",
   "metadata": {},
   "source": [
    "Ordinary Least Squares (OLS) equation:<br>\n",
    "$ y = \\beta_{0} + \\beta_{1}x + \\epsilon $\n",
    "\n",
    "Remember that in an OLS equation, each predictor variable (x) has an estimated coefficient that can be interpretted using the units of the predictor variable and target variable (y) to interpret the impact of that input on the prediction of the target variable. We will use this property of OLS to connect the interpretation of variable importance to usage of OLS to analyse decomposed predictors, which will illustrate the necessity of neural network architectures for the analysis of nested predictors."
   ]
  },
  {
   "cell_type": "markdown",
   "id": "4fd69aea-088d-4625-8b08-823dd2bd9b82",
   "metadata": {},
   "source": [
    "Let's return to the cat example. Recall the tree diagram of our \"predictor variables\" that led us to the conclusion that \"This cat is cute\":"
   ]
  },
  {
   "cell_type": "markdown",
   "id": "bdec1715-945e-4c40-be2d-ac8eecc142ef",
   "metadata": {},
   "source": [
    "<img src=\"images/cat_diagram_1.png\" width=500 height=500 style=\"margin:auto\"/>"
   ]
  },
  {
   "cell_type": "markdown",
   "id": "121ba80d-8b8a-409d-b8ee-22f7ac71e6e5",
   "metadata": {},
   "source": [
    "We will use this diagram to inform our OLS regression model which will predict a cat's \"cuteness score\" based on various predictor variables. Below is a section of the diagram which is completed and will serve as the basis for our example."
   ]
  },
  {
   "cell_type": "markdown",
   "id": "77c64057-5327-489f-ac67-099da62a05f1",
   "metadata": {},
   "source": [
    "<img src=\"images/cat_diagram_2.png\" width=500 height=500 style=\"margin:auto\"/>"
   ]
  },
  {
   "cell_type": "markdown",
   "id": "1899f454-a543-4359-b724-a85f86753ca8",
   "metadata": {},
   "source": [
    "In order to understand this image classification without diving into the root of convolutional neural networks (CNN's) and the intricacies of CNN network design in order to explain how features are derived from the picture in the first place, we will instead understand this image as if the image has an associated \"score\" for each variable we identify. This will simplify our problem immensely by removing the necessity to derive these variable \"scores\", and lends itself to the OLS interpretation we are looking for."
   ]
  },
  {
   "cell_type": "markdown",
   "id": "dbf12809-58fe-4d61-8766-37525d778a94",
   "metadata": {},
   "source": [
    "For the diagram above, we interpret the boxes to represent random variables. Forming a linear equation using the highest two layers of the tree diagram, we generate the following equation:"
   ]
  },
  {
   "cell_type": "markdown",
   "id": "65c7f252-9b56-45bb-9993-dd007caacb6d",
   "metadata": {},
   "source": [
    "> **Cuteness Score = Fur Color Score  + Surprised Expression Score**"
   ]
  },
  {
   "cell_type": "markdown",
   "id": "7d29e081-1dd0-438d-b5f0-9221116132f9",
   "metadata": {},
   "source": [
    "<table>\n",
    "  <tr>\n",
    "    <th>Variable</th>\n",
    "    <th>Data Type</th>\n",
    "    <th>Description</th>\n",
    "  </tr>\n",
    "  <tr>\n",
    "    <td>Cuteness Score</td>\n",
    "    <td>float between 0 and 1</td>\n",
    "    <td>The value 1 represents the \"cutest\" a cat could possibly be, and <br>the value 0 represents the \"least cute\" a cat could possibly be.</td>\n",
    "  </tr>\n",
    "  <tr>\n",
    "    <td>Surprised Expression Score</td>\n",
    "    <td>float between 0 and 1</td>\n",
    "    <td>The value 1 represents the \"most surprised\" a cat could possibly look, and <br>the value 0 represents the \"least surprised\" a cat could possibly look.</td>\n",
    "  </tr>\n",
    "    <tr>\n",
    "    <td>Fur Color Score</td>\n",
    "    <td>float between 0 and 1</td>\n",
    "    <td>The value 1 represents the \"best fur color\" a cat could possibly have, and <br>the value 0 represents the \"worst fur color\" a cat could possibly have.</td>\n",
    "  </tr>\n",
    "</table> "
   ]
  },
  {
   "cell_type": "markdown",
   "id": "a9b8575d-eacd-4cd0-bf1d-3c3ee6a85fd8",
   "metadata": {},
   "source": [
    "The variables above may be thought of as aggregate scores combining physical measurements and human psychology. For example: the size of the cat's eyes might be measured by the computer through understanding the eye as some eliptical shape, and it's \"wide-ness\" might be the difference between the surface area formed by this eplipse and the surface area created by a circle of the same diameter. This, in turn, impacts some computation which weights the various components of "
   ]
  },
  {
   "cell_type": "code",
   "execution_count": 4,
   "id": "c4f82ec1-a308-42b8-bbb9-c667f8b783f4",
   "metadata": {},
   "outputs": [],
   "source": [
    "# maybe do some paper planning so i'm not stumbling over myself in the writing!"
   ]
  },
  {
   "cell_type": "code",
   "execution_count": 5,
   "id": "0ffbfb2f-0e51-427c-9779-ac59f1c2b3e8",
   "metadata": {},
   "outputs": [],
   "source": [
    "# NEED FEEDBACK ON THE DIAGRAMS! DO I NEED TO REDRAW THEM ALL????"
   ]
  },
  {
   "cell_type": "code",
   "execution_count": 6,
   "id": "6c47c56a-59ef-4e68-851c-452a9bf605f3",
   "metadata": {},
   "outputs": [],
   "source": [
    "# How do I utilize the sources?\n",
    "# - cannot directly quote, so how do I represent that I have sourced/verified principles with a textbook?"
   ]
  },
  {
   "cell_type": "markdown",
   "id": "7b3076f7-aeb6-412a-b804-7a544bd6540e",
   "metadata": {},
   "source": [
    "Cat Example using OLS:<br>\n",
    "> $ y $ = \"cuteness\" rating <br>\n",
    "$ \\beta_{0} $ = estimated cuteness <br>\n",
    "$ \\beta_{1} $ = est"
   ]
  },
  {
   "cell_type": "markdown",
   "id": "108ef578-ab3f-4403-ab16-21813ff5cf0c",
   "metadata": {
    "tags": []
   },
   "source": [
    "Or, More generally: <br>\n",
    "$ a = a_{1} + a_{2} + a_{3} $ <br>\n",
    "$ b = b_{1} + b_{2} + b_{3} $ <br>\n",
    "\n",
    "$ y_{a} = \\beta_{a0} + \\beta_{a1}a_{1} + \\beta_{a2}a_{2} + \\beta_{a3}a_{3} $ <br>\n",
    "$ y_{b} = \\beta_{b0} + \\beta_{b1}b_{1} + \\beta_{b2}b_{2} + \\beta_{b3}b_{3} $ <br>\n",
    "\n",
    "$ z = \\beta_{y0} + \\beta_{ya}y_{a} + \\beta_{yb}y_{b} $ <br>\n",
    "$ z = \\beta_{y0} + \\beta_{ya}(\\beta_{a0} + \\beta_{a1}a_{1} + \\beta_{a2}a_{2} + \\beta_{a3}a_{3}) + \\beta_{yb}(\\beta_{b0} + \\beta_{b1}b_{1} + \\beta_{b2}b_{2} + \\beta_{b3}b_{3}) $\n",
    "\n",
    "We can see that this can be rewritten: <br>\n",
    "$ z = \\beta_{y0} + \\beta_{a0} + \\beta_{b0} + \\beta_{ya}a(\\beta_{a1} + \\beta_{a2} + \\beta_{a3}) + \\beta_{yb}b(\\beta_{b1} + \\beta_{b2} + \\beta_{b3}) $ <br>\n",
    "\n",
    "We can rename: <br>\n",
    "$ \\beta_{a} = \\beta_{a1} + \\beta_{a2} + \\beta_{a3} $ <br>\n",
    "$ \\beta_{b} = \\beta_{b1} + \\beta_{b2} + \\beta_{b3} $ <br>\n",
    "$ \\beta_{0} = \\beta_{y0} + \\beta_{a0} + \\beta_{b0} $\n",
    "\n",
    "$ z = \\beta_{0} + \\beta_{a}a + \\beta_{b}b$"
   ]
  }
 ],
 "metadata": {
  "kernelspec": {
   "display_name": "Python 3 (ipykernel)",
   "language": "python",
   "name": "python3"
  },
  "language_info": {
   "codemirror_mode": {
    "name": "ipython",
    "version": 3
   },
   "file_extension": ".py",
   "mimetype": "text/x-python",
   "name": "python",
   "nbconvert_exporter": "python",
   "pygments_lexer": "ipython3",
   "version": "3.9.13"
  }
 },
 "nbformat": 4,
 "nbformat_minor": 5
}